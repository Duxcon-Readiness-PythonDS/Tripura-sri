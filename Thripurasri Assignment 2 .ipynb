{
 "cells": [
  {
   "cell_type": "code",
   "execution_count": 4,
   "id": "6c2e2063",
   "metadata": {},
   "outputs": [
    {
     "name": "stdout",
     "output_type": "stream",
     "text": [
      "Enter the user name: Thripura\n",
      "Hello nice to meet you! Thripura\n"
     ]
    }
   ],
   "source": [
    "#Write a Python program that defines a function called greet user which takes the user's name as input and displays a personalized greeting message. The program should prompt the user to enter their name and then call the greet user function to display the greeting.\n",
    "def greet_user(name):\n",
    "    return (print(\"Hello! nice to meet you ` \"+name))\n",
    "\n",
    "name=input(\"Enter the user name: \")\n",
    "result=greet_user(name)"
   ]
  },
  {
   "cell_type": "code",
   "execution_count": 3,
   "id": "19d312fb",
   "metadata": {},
   "outputs": [
    {
     "name": "stdout",
     "output_type": "stream",
     "text": [
      "Enter the value of X: 10\n",
      "Enter the value of Y: 30\n",
      "Enter the operation to be perfomed use the first 3 letters as a word to perform operation like(add,sub,mul,div)anycases are accepted:sub\n",
      "The difference of two numbers is:-20\n"
     ]
    }
   ],
   "source": [
    "#Calculator: Create a simple calculator program that can perform basic arithmetic operations (addition, subtraction, multiplication, division) based on user input.\n",
    "x=int(input(\"Enter the value of X: \"))\n",
    "y=int(input(\"Enter the value of Y: \"))\n",
    "\n",
    "\n",
    "input_operation=input(\"Enter the operation to be perfomed use the first 3 letters as a word to perform operation like(add,sub,mul,div)anycases are accepted:\")\n",
    "input_operation.lower()\n",
    "if input_operation=='add':\n",
    "    result1=x+y\n",
    "    print(f'The sum of two numbers is:{result1}')\n",
    "elif input_operation=='sub':\n",
    "    result2=x-y\n",
    "    print(f'The difference of two numbers is:{result2}')\n",
    "elif input_operation=='mul':\n",
    "    result3=x*y\n",
    "    print(f'The product of the two numbers is: {result3}')\n",
    "elif input_operation=='div':\n",
    "    result4=x/y\n",
    "    print(f'The quotient of the two number is: {result4}')\n",
    "else:\n",
    "    print(\"Check the spelling of the operation which need to performed\")\n",
    "    "
   ]
  },
  {
   "cell_type": "code",
   "execution_count": 14,
   "id": "9a16d8ce",
   "metadata": {},
   "outputs": [
    {
     "name": "stdout",
     "output_type": "stream",
     "text": [
      "Enter the number to check whether even or odd: 9\n",
      "The number 9 is Odd\n"
     ]
    }
   ],
   "source": [
    "#Odd or Even: Write a program to determine if a given number is odd or even.\n",
    "def odd_even(number):\n",
    "    if number%2==0:\n",
    "        return (print(f'The number {number} is Even'))\n",
    "    else:\n",
    "        return (print(f'The number {number} is Odd'))\n",
    "num=int(input(\"Enter the number to check whether even or odd: \"))\n",
    "result=odd_even(num)"
   ]
  },
  {
   "cell_type": "code",
   "execution_count": 4,
   "id": "d020ef38",
   "metadata": {},
   "outputs": [
    {
     "name": "stdout",
     "output_type": "stream",
     "text": [
      "Enter the number for which factorial need to find: 3\n",
      "The factorial value of 3 is 6\n"
     ]
    }
   ],
   "source": [
    "#Factorial: Create a function to calculate the factorial of a number.\n",
    "def facto_num(num):\n",
    "    fact=1\n",
    "    for i in range (1,num+1):\n",
    "        fact=fact*i\n",
    "    return (print(f\"The factorial value of {num} is {fact}\"))\n",
    "num=int(input(\"Enter the number for which factorial need to find: \"))\n",
    "result=facto_num(num)"
   ]
  },
  {
   "cell_type": "code",
   "execution_count": 8,
   "id": "77bf3649",
   "metadata": {},
   "outputs": [
    {
     "name": "stdout",
     "output_type": "stream",
     "text": [
      "Enter the number for fibonaaci sequence: 9\n",
      "The fibonacci of number 9 is 34\n"
     ]
    }
   ],
   "source": [
    "#Fibonacci Sequence: Generate the first N numbers in the Fibonacci sequence.\n",
    "def fibonacci(n):\n",
    "    if n <0:\n",
    "        print(\"incorrect input\")\n",
    "    elif n==0:\n",
    "        return 0\n",
    "    elif n==1 or n==2:\n",
    "        return 1\n",
    "    else:\n",
    "        return fibonacci(n-1)+fibonacci(n-2)\n",
    "num=int(input(\"Enter the number for fibonaaci sequence: \"))\n",
    "result=fibonacci(num)\n",
    "print(f'The fibonacci sequence of number {num} is {result}')"
   ]
  },
  {
   "cell_type": "code",
   "execution_count": 2,
   "id": "127de2ae",
   "metadata": {},
   "outputs": [
    {
     "name": "stdout",
     "output_type": "stream",
     "text": [
      "Enter word or phrase: pop pop\n",
      "The sentence or word is a palindrome\n"
     ]
    }
   ],
   "source": [
    "#Palindrome Checker: Develop a program to check if a given word or phrase is a palindrome.\n",
    "word=input(\"Enter word or phrase: \")\n",
    "new_word=word.lower()\n",
    "if new_word==new_word[::-1]:\n",
    "    print(\"The sentence or word is a palindrome\")\n",
    "else:\n",
    "    print(\"The sentence or word is not palindrome\")"
   ]
  },
  {
   "cell_type": "code",
   "execution_count": 9,
   "id": "f6327b69",
   "metadata": {},
   "outputs": [
    {
     "name": "stdout",
     "output_type": "stream",
     "text": [
      "['kurukure', 'lays', 'Bingo', 'chips', 'biscuits', 'pringles']\n",
      "['kurukure', 'lays', 'Bingo', 'biscuits', 'pringles']\n",
      "Enter the item to be searched in the list lays\n",
      "The item exists\n"
     ]
    }
   ],
   "source": [
    "#List Manipulation: Implement functions to add, remove, or search for elements in a list.\n",
    "snacks=['kurukure','lays','chips','biscuits','pringles']\n",
    "snacks.insert(2,'Bingo')                                 # add is done using insert() and append() methods\n",
    "print(snacks)\n",
    "snacks.remove('chips')                                   # removing item is done through the del function or remove() method\n",
    "print(snacks)\n",
    "element=input(\"Enter the item to be searched in the list \") # In order to search an item present in the list or not \n",
    "if element in snacks:\n",
    "    print(\"The item exists\")\n",
    "else:\n",
    "    print(\"The item doesnt exists\")\n"
   ]
  },
  {
   "cell_type": "code",
   "execution_count": 18,
   "id": "cb185705",
   "metadata": {},
   "outputs": [
    {
     "name": "stdout",
     "output_type": "stream",
     "text": [
      "Enter the list of numbers to be calculated: 34567\n",
      "The sum of the digits is 25\n"
     ]
    }
   ],
   "source": [
    "#Sum of Digits: Write a program to calculate the sum of the digits in a given number.\n",
    "def sum_digits(num):\n",
    "    sum=0\n",
    "    for i in num:\n",
    "        sum=sum+int(i)\n",
    "    return sum\n",
    "num=input(\"Enter the list of numbers to be calculated: \")\n",
    "result=sum_digits(num)\n",
    "print(f\"The sum of the digits is {result}\")"
   ]
  },
  {
   "cell_type": "code",
   "execution_count": 15,
   "id": "15f35352",
   "metadata": {},
   "outputs": [
    {
     "name": "stdout",
     "output_type": "stream",
     "text": [
      "Enter the number: 2\n",
      "The number is prime\n"
     ]
    }
   ],
   "source": [
    "def prime_fun(num):\n",
    "    if num==0 or num==1:\n",
    "        return 1\n",
    "    if num==2:\n",
    "        return (print(\"The number is prime\"))\n",
    "    if num>1:\n",
    "        for i in range(2,num):\n",
    "            if (num%i)==0:\n",
    "                print(\"The num is not prime\")\n",
    "                break\n",
    "            else:\n",
    "                print(\"The number is prime\")\n",
    "                break\n",
    "    \n",
    "num=int(input(\"Enter the number: \"))\n",
    "prime_fun(num)\n",
    "        \n",
    "        "
   ]
  },
  {
   "cell_type": "code",
   "execution_count": 17,
   "id": "ac574415",
   "metadata": {},
   "outputs": [
    {
     "name": "stdout",
     "output_type": "stream",
     "text": [
      "Enter the string which should be reversed: Hello me!\n",
      "The reverse of the string 'Hello me!'is '!em olleH'\n"
     ]
    }
   ],
   "source": [
    " #String Reversal: Develop a program that reverses a given string.\n",
    "string=input(\"Enter the string which should be reversed: \")\n",
    "string.lower()\n",
    "string1=string[::-1]\n",
    "print(f\"The reverse of the string '{string}' is '{string1}'\")"
   ]
  },
  {
   "cell_type": "code",
   "execution_count": 22,
   "id": "6d21d8d7",
   "metadata": {},
   "outputs": [
    {
     "name": "stdout",
     "output_type": "stream",
     "text": [
      "Enter the year to be checked: 1971\n",
      "The year is 1971 is not a Leap Year\n"
     ]
    }
   ],
   "source": [
    "#Leap Year Checker: Write a program to determine if a given year is a leap year.\n",
    "year=int(input(\"Enter the year to be checked: \"))\n",
    "if year%4==0:\n",
    "    if year%100==0:\n",
    "        if year%400==0:\n",
    "            print(f\"The year is {year} is Leap Year\")\n",
    "        else:\n",
    "            print(f\"The year is {year} is not Leap Year\")\n",
    "    else:\n",
    "        print(f\"The year is {year} is a leap Year\")\n",
    "else:\n",
    "    print(f\"The year is {year} is not a Leap Year\")\n",
    "    "
   ]
  },
  {
   "cell_type": "code",
   "execution_count": 2,
   "id": "be4f3286",
   "metadata": {},
   "outputs": [
    {
     "name": "stdout",
     "output_type": "stream",
     "text": [
      "Enter the choice: 2\n",
      "Enter the temperature in farenheit123\n",
      "The temperature 123.0F is converted into celsius50.55555555555556C\n"
     ]
    }
   ],
   "source": [
    "# Temperature Converter: Create a program that converts between Fahrenheit and Celsius temperatures.\n",
    "def Celsius_Farenheit(Celsius):\n",
    "    return ((9/2)*celsius)+32\n",
    "def Farenheit_Celsius(Farenheit):\n",
    "    return (Farenheit-32)*5/9\n",
    "\n",
    "choice=int(input(\"Enter the choice: \"))\n",
    "if choice ==1:\n",
    "    celsius=float(input(\"Enter the temperature in Celsius: \"))\n",
    "    result1=Celsius_Farenheit(celsius)\n",
    "    print(f\"The temperature {celsius}C is converted into farenheit {result1}F\")\n",
    "elif choice==2:\n",
    "    farenheit=float(input(\"Enter the temperature in Farenheit: \"))\n",
    "    result2=Farenheit_Celsius(farenheit)\n",
    "    print(f\"The temperature {farenheit}F is converted into celsius {result2}C\")"
   ]
  },
  {
   "cell_type": "code",
   "execution_count": 36,
   "id": "cc1467ce",
   "metadata": {},
   "outputs": [
    {
     "name": "stdout",
     "output_type": "stream",
     "text": [
      "Welcome to the Number Guessing Game!\n",
      "Guess the number between 1 and 100: 3\n",
      "Too low! Try again.\n",
      "Guess the number between 1 and 100: 2\n",
      "Too low! Try again.\n",
      "Guess the number between 1 and 100: 89\n",
      "Too high! Try again.\n",
      "Guess the number between 1 and 100: 73\n",
      "Too high! Try again.\n",
      "Guess the number between 1 and 100: 34\n",
      "Too low! Try again.\n",
      "Guess the number between 1 and 100: 56\n",
      "Too low! Try again.\n",
      "Guess the number between 1 and 100: 66\n",
      "Too high! Try again.\n",
      "Guess the number between 1 and 100: 65\n",
      "Congratulations! You guessed the correct number.\n"
     ]
    }
   ],
   "source": [
    "#Random Number Guessing Game: Implement a simple number-guessing game where the computer generates a random number, and the user tries to guess it.\n",
    "import random\n",
    "secret_number = random.randint(1, 100)\n",
    "print(\"Welcome to the Number Guessing Game!\")\n",
    "while True:\n",
    "    user_guess = int(input(\"Guess the number between 1 and 100: \"))\n",
    "    if user_guess == secret_number:\n",
    "        print(\"Congratulations! You guessed the correct number.\")\n",
    "        break\n",
    "    elif user_guess < secret_number:\n",
    "        print(\"Too low! Try again.\")\n",
    "    else:\n",
    "        print(\"Too high! Try again.\")\n",
    "\n"
   ]
  },
  {
   "cell_type": "code",
   "execution_count": 37,
   "id": "d9f2cf21",
   "metadata": {},
   "outputs": [
    {
     "name": "stdout",
     "output_type": "stream",
     "text": [
      "The frequency of the character present isCounter({'r': 3, 'i': 2, 'T': 1, 'h': 1, 'p': 1, 'u': 1, 'a': 1, 's': 1})\n"
     ]
    }
   ],
   "source": [
    "#Character Frequency Counter: Create a program to count the frequency of characters in a given string.\n",
    "from collections import Counter\n",
    "counter=\"Thripurasri\"\n",
    "res=Counter(counter)\n",
    "print(\"The frequency of the character present is\"+str(res))"
   ]
  },
  {
   "cell_type": "code",
   "execution_count": 38,
   "id": "264f5009",
   "metadata": {},
   "outputs": [
    {
     "name": "stdout",
     "output_type": "stream",
     "text": [
      "The frequency of characters in the string is{'T': 1, 'h': 1, 'r': 3, 'i': 2, 'p': 1, 'u': 1, 'a': 1, 's': 1}\n"
     ]
    }
   ],
   "source": [
    "#(Another method without using builtins)Character Frequency Counter: Create a program to count the frequency of characters in a given string.\n",
    "test=\"Thripurasri\"\n",
    "fre={}\n",
    "for i in test:\n",
    "    if i in fre:\n",
    "        fre[i]+=1\n",
    "    else:\n",
    "        fre[i]=1\n",
    "print(\"The frequency of characters in the string is\"+str(fre))\n",
    "        "
   ]
  },
  {
   "cell_type": "code",
   "execution_count": 45,
   "id": "621c6701",
   "metadata": {},
   "outputs": [
    {
     "name": "stdout",
     "output_type": "stream",
     "text": [
      "Enter the number of items to be added in: 2\n",
      "enter the items: apple\n",
      "['apple']\n",
      "enter the items: candy\n",
      "['apple', 'candy']\n",
      "Agreeing to perform addition by telling yes or no: no\n",
      "Input the acceptance or rejectance for removal of items from list: no\n",
      "The final list ['apple', 'candy']\n"
     ]
    }
   ],
   "source": [
    "#Simple To-Do List: Build a basic to-do list application that allows users to add, remove, and list \n",
    "my_list=[]\n",
    "n=int(input(\"Enter the number of items to be added in: \"))\n",
    "for i in range(0 , n):\n",
    "    items=input(\"enter the items: \")\n",
    "    MY_list=my_list.append(items)\n",
    "    print(my_list)\n",
    "user=input(\"Agreeing to perform addition by telling yes or no: \")\n",
    "user.lower()\n",
    "if user=='yes':\n",
    "    k=int(input(\"Enter the no of items to be added: \"))\n",
    "    for i in range(0,k):\n",
    "        l=int(input(\"Enter the position for the item to be inserted: \"))\n",
    "        o=input(\"Enter the item to be inserted: \")\n",
    "        my_list.insert(l,o)\n",
    "    print(my_list)\n",
    "    user_input2=input(\"Input the acceptance or rejectance for removal of items from list: \")\n",
    "    user_input2.lower()\n",
    "    if user_input2==\"yes\":\n",
    "        q=int(input(\"how many items need to be removed\"))\n",
    "        for q in range(0,q):\n",
    "            p=input(\"Enter the item to be removed: \")\n",
    "            my_list.remove(p)\n",
    "            print(f'The final list {my_list}')\n",
    "        else:\n",
    "            print(f\"The final list {my_list}\")\n",
    "else:\n",
    "    user_input2=input(\"Input the acceptance or rejectance for removal of items from list: \")\n",
    "    user_input2.lower()\n",
    "    if user_input2==\"yes\":\n",
    "        q=int(input(\"how many items need to be removed\"))\n",
    "        for q in range(0,q):\n",
    "            p=input(\"Enter the item to be removed: \")\n",
    "            my_list.remove(p)\n",
    "            print(f'The final list is {my_list}')\n",
    "    else:\n",
    "        print(f\"The final list {my_list}\")\n",
    "\n",
    " "
   ]
  },
  {
   "cell_type": "code",
   "execution_count": 4,
   "id": "e3145ed3",
   "metadata": {},
   "outputs": [
    {
     "name": "stdout",
     "output_type": "stream",
     "text": [
      "Enter the value of X: 20\n",
      "Enter the value of Y: 30\n",
      "Enter the operation to be perfomed use the first 3 letters as a word to perform operation like(add,sub,mul,div)anycases are accepted:mul\n",
      "The product of the two numbers is: 600\n"
     ]
    }
   ],
   "source": [
    "#Calculator: Create a simple calculator program that can perform basic arithmetic operations (addition, subtraction, multiplication, division) based on user input.\n",
    "#using functions\n",
    "x=int(input(\"Enter the value of X: \"))\n",
    "y=int(input(\"Enter the value of Y: \"))\n",
    "\n",
    "def add(a,b):\n",
    "    return a+b\n",
    "def sub(c,d):\n",
    "    return c-d\n",
    "def mul(e,f):\n",
    "    return e*f\n",
    "def div(g,h):\n",
    "    return g/h\n",
    "\n",
    "input_operation=input(\"Enter the operation to be perfomed use the first 3 letters as a word to perform operation like(add,sub,mul,div)anycases are accepted:\")\n",
    "if input_operation=='add'or input_operation=='Add'or input_operation=='ADD':\n",
    "    result1=add(x,y)\n",
    "    print(f'The sum of two numbers is:{result1}')\n",
    "elif input_operation=='sub'or input_operation=='Sub'or input_operation=='SUB':\n",
    "    result2=sub(x,y)\n",
    "    print(f'The difference of two numbers is:{result2}')\n",
    "elif input_operation=='mul'or input_operation=='Mul' or input_operation=='MUL':\n",
    "    result3=mul(x,y)\n",
    "    print(f'The product of the two numbers is: {result3}')\n",
    "elif input_operation=='div'or input_operation=='Div' or input_operation==\"DIV\":\n",
    "    result4=div(x,y)\n",
    "    print(f'The quotient of the two number is: {result4}')\n",
    "else:\n",
    "    print(\"Check the spelling of the operation which need to performed\")\n",
    "    "
   ]
  }
 ],
 "metadata": {
  "kernelspec": {
   "display_name": "Python 3 (ipykernel)",
   "language": "python",
   "name": "python3"
  },
  "language_info": {
   "codemirror_mode": {
    "name": "ipython",
    "version": 3
   },
   "file_extension": ".py",
   "mimetype": "text/x-python",
   "name": "python",
   "nbconvert_exporter": "python",
   "pygments_lexer": "ipython3",
   "version": "3.11.5"
  }
 },
 "nbformat": 4,
 "nbformat_minor": 5
}
